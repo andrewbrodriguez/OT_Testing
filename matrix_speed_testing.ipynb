{
 "cells": [
  {
   "cell_type": "code",
   "execution_count": 1,
   "metadata": {},
   "outputs": [
    {
     "name": "stdout",
     "output_type": "stream",
     "text": [
      "Runtime for multiplying two 10,000 x 10,000 matrices: 6.243503416015301 seconds\n"
     ]
    }
   ],
   "source": [
    "import numpy as np\n",
    "import timeit\n",
    "\n",
    "# Define a function to perform matrix multiplication\n",
    "def matrix_multiplication():\n",
    "    # Create two random 10,000 x 10,000 matrices\n",
    "    A = np.random.rand(10000, 10000)\n",
    "    B = np.random.rand(10000, 10000)\n",
    "    # Perform matrix multiplication\n",
    "    C = np.matmul(A, B)\n",
    "\n",
    "# Use timeit to measure the runtime\n",
    "runtime = timeit.timeit(matrix_multiplication, number=1)  # Set number to 1 to run it once\n",
    "\n",
    "print(f\"Runtime for multiplying two 10,000 x 10,000 matrices: {runtime} seconds\")"
   ]
  },
  {
   "cell_type": "code",
   "execution_count": 2,
   "metadata": {},
   "outputs": [
    {
     "name": "stdout",
     "output_type": "stream",
     "text": [
      "Runtime for multiplying two 10,000 x 10,000 matrices: 6.153208874980919 seconds\n",
      "Runtime for multiplying two 10,000 x 10,000 matrices: 6.1535508329980075 seconds\n",
      "Runtime for multiplying two 10,000 x 10,000 matrices: 6.14355187502224 seconds\n",
      "Runtime for multiplying two 10,000 x 10,000 matrices: 6.135232625005301 seconds\n",
      "Runtime for multiplying two 10,000 x 10,000 matrices: 6.148702832986601 seconds\n",
      "Runtime for multiplying two 10,000 x 10,000 matrices: 6.155899125034921 seconds\n",
      "Runtime for multiplying two 10,000 x 10,000 matrices: 6.131805124983657 seconds\n",
      "Runtime for multiplying two 10,000 x 10,000 matrices: 6.140304375032429 seconds\n",
      "Runtime for multiplying two 10,000 x 10,000 matrices: 6.131981582962908 seconds\n",
      "Runtime for multiplying two 10,000 x 10,000 matrices: 6.140375416958705 seconds\n"
     ]
    }
   ],
   "source": [
    "for i in range(10):\n",
    "    runtime = timeit.timeit(matrix_multiplication, number=1)  # Set number to 1 to run it once\n",
    "    print(f\"Runtime for multiplying two 10,000 x 10,000 matrices: {runtime} seconds\")"
   ]
  }
 ],
 "metadata": {
  "kernelspec": {
   "display_name": ".venv",
   "language": "python",
   "name": "python3"
  },
  "language_info": {
   "codemirror_mode": {
    "name": "ipython",
    "version": 3
   },
   "file_extension": ".py",
   "mimetype": "text/x-python",
   "name": "python",
   "nbconvert_exporter": "python",
   "pygments_lexer": "ipython3",
   "version": "3.12.4"
  }
 },
 "nbformat": 4,
 "nbformat_minor": 2
}
