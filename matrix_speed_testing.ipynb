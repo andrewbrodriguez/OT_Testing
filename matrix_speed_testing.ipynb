{
 "cells": [
  {
   "cell_type": "code",
   "execution_count": 1,
   "metadata": {},
   "outputs": [
    {
     "name": "stdout",
     "output_type": "stream",
     "text": [
      "Runtime for multiplying two 10,000 x 10,000 matrices: 8.291412667000001 seconds\n"
     ]
    }
   ],
   "source": [
    "import numpy as np\n",
    "import timeit\n",
    "\n",
    "# Define a function to perform matrix multiplication\n",
    "def matrix_multiplication():\n",
    "    # Create two random 10,000 x 10,000 matrices\n",
    "    A = np.random.rand(10000, 10000)\n",
    "    B = np.random.rand(10000, 10000)\n",
    "    # Perform matrix multiplication\n",
    "    C = np.matmul(A, B)\n",
    "\n",
    "# Use timeit to measure the runtime\n",
    "runtime = timeit.timeit(matrix_multiplication, number=1)  # Set number to 1 to run it once\n",
    "\n",
    "print(f\"Runtime for multiplying two 10,000 x 10,000 matrices: {runtime} seconds\")"
   ]
  },
  {
   "cell_type": "code",
   "execution_count": 2,
   "metadata": {},
   "outputs": [
    {
     "name": "stdout",
     "output_type": "stream",
     "text": [
      "Runtime for multiplying two 10,000 x 10,000 matrices: 8.286734458 seconds\n",
      "Runtime for multiplying two 10,000 x 10,000 matrices: 8.651516874999999 seconds\n",
      "Runtime for multiplying two 10,000 x 10,000 matrices: 10.256962708 seconds\n",
      "Runtime for multiplying two 10,000 x 10,000 matrices: 8.672382042000002 seconds\n",
      "Runtime for multiplying two 10,000 x 10,000 matrices: 8.495739041999997 seconds\n"
     ]
    },
    {
     "ename": "KeyboardInterrupt",
     "evalue": "",
     "output_type": "error",
     "traceback": [
      "\u001b[0;31m---------------------------------------------------------------------------\u001b[0m",
      "\u001b[0;31mKeyboardInterrupt\u001b[0m                         Traceback (most recent call last)",
      "\u001b[1;32m/Users/andrewrodriguez/Desktop/Files/OT_Testing/matrix_speed_testing.ipynb Cell 2\u001b[0m line \u001b[0;36m2\n\u001b[1;32m      <a href='vscode-notebook-cell:/Users/andrewrodriguez/Desktop/Files/OT_Testing/matrix_speed_testing.ipynb#W1sZmlsZQ%3D%3D?line=0'>1</a>\u001b[0m \u001b[39mfor\u001b[39;00m i \u001b[39min\u001b[39;00m \u001b[39mrange\u001b[39m(\u001b[39m10\u001b[39m):\n\u001b[0;32m----> <a href='vscode-notebook-cell:/Users/andrewrodriguez/Desktop/Files/OT_Testing/matrix_speed_testing.ipynb#W1sZmlsZQ%3D%3D?line=1'>2</a>\u001b[0m     runtime \u001b[39m=\u001b[39m timeit\u001b[39m.\u001b[39;49mtimeit(matrix_multiplication, number\u001b[39m=\u001b[39;49m\u001b[39m1\u001b[39;49m)  \u001b[39m# Set number to 1 to run it once\u001b[39;00m\n\u001b[1;32m      <a href='vscode-notebook-cell:/Users/andrewrodriguez/Desktop/Files/OT_Testing/matrix_speed_testing.ipynb#W1sZmlsZQ%3D%3D?line=2'>3</a>\u001b[0m     \u001b[39mprint\u001b[39m(\u001b[39mf\u001b[39m\u001b[39m\"\u001b[39m\u001b[39mRuntime for multiplying two 10,000 x 10,000 matrices: \u001b[39m\u001b[39m{\u001b[39;00mruntime\u001b[39m}\u001b[39;00m\u001b[39m seconds\u001b[39m\u001b[39m\"\u001b[39m)\n",
      "File \u001b[0;32m/Library/Developer/CommandLineTools/Library/Frameworks/Python3.framework/Versions/3.9/lib/python3.9/timeit.py:233\u001b[0m, in \u001b[0;36mtimeit\u001b[0;34m(stmt, setup, timer, number, globals)\u001b[0m\n\u001b[1;32m    230\u001b[0m \u001b[39mdef\u001b[39;00m \u001b[39mtimeit\u001b[39m(stmt\u001b[39m=\u001b[39m\u001b[39m\"\u001b[39m\u001b[39mpass\u001b[39m\u001b[39m\"\u001b[39m, setup\u001b[39m=\u001b[39m\u001b[39m\"\u001b[39m\u001b[39mpass\u001b[39m\u001b[39m\"\u001b[39m, timer\u001b[39m=\u001b[39mdefault_timer,\n\u001b[1;32m    231\u001b[0m            number\u001b[39m=\u001b[39mdefault_number, \u001b[39mglobals\u001b[39m\u001b[39m=\u001b[39m\u001b[39mNone\u001b[39;00m):\n\u001b[1;32m    232\u001b[0m \u001b[39m    \u001b[39m\u001b[39m\"\"\"Convenience function to create Timer object and call timeit method.\"\"\"\u001b[39;00m\n\u001b[0;32m--> 233\u001b[0m     \u001b[39mreturn\u001b[39;00m Timer(stmt, setup, timer, \u001b[39mglobals\u001b[39;49m)\u001b[39m.\u001b[39;49mtimeit(number)\n",
      "File \u001b[0;32m/Library/Developer/CommandLineTools/Library/Frameworks/Python3.framework/Versions/3.9/lib/python3.9/timeit.py:177\u001b[0m, in \u001b[0;36mTimer.timeit\u001b[0;34m(self, number)\u001b[0m\n\u001b[1;32m    175\u001b[0m gc\u001b[39m.\u001b[39mdisable()\n\u001b[1;32m    176\u001b[0m \u001b[39mtry\u001b[39;00m:\n\u001b[0;32m--> 177\u001b[0m     timing \u001b[39m=\u001b[39m \u001b[39mself\u001b[39;49m\u001b[39m.\u001b[39;49minner(it, \u001b[39mself\u001b[39;49m\u001b[39m.\u001b[39;49mtimer)\n\u001b[1;32m    178\u001b[0m \u001b[39mfinally\u001b[39;00m:\n\u001b[1;32m    179\u001b[0m     \u001b[39mif\u001b[39;00m gcold:\n",
      "File \u001b[0;32m<timeit-src>:6\u001b[0m, in \u001b[0;36minner\u001b[0;34m(_it, _timer, _stmt)\u001b[0m\n",
      "\u001b[1;32m/Users/andrewrodriguez/Desktop/Files/OT_Testing/matrix_speed_testing.ipynb Cell 2\u001b[0m line \u001b[0;36m1\n\u001b[1;32m      <a href='vscode-notebook-cell:/Users/andrewrodriguez/Desktop/Files/OT_Testing/matrix_speed_testing.ipynb#W1sZmlsZQ%3D%3D?line=7'>8</a>\u001b[0m B \u001b[39m=\u001b[39m np\u001b[39m.\u001b[39mrandom\u001b[39m.\u001b[39mrand(\u001b[39m10000\u001b[39m, \u001b[39m10000\u001b[39m)\n\u001b[1;32m      <a href='vscode-notebook-cell:/Users/andrewrodriguez/Desktop/Files/OT_Testing/matrix_speed_testing.ipynb#W1sZmlsZQ%3D%3D?line=8'>9</a>\u001b[0m \u001b[39m# Perform matrix multiplication\u001b[39;00m\n\u001b[0;32m---> <a href='vscode-notebook-cell:/Users/andrewrodriguez/Desktop/Files/OT_Testing/matrix_speed_testing.ipynb#W1sZmlsZQ%3D%3D?line=9'>10</a>\u001b[0m C \u001b[39m=\u001b[39m np\u001b[39m.\u001b[39;49mmatmul(A, B)\n",
      "\u001b[0;31mKeyboardInterrupt\u001b[0m: "
     ]
    }
   ],
   "source": [
    "for i in range(10):\n",
    "    runtime = timeit.timeit(matrix_multiplication, number=1)  # Set number to 1 to run it once\n",
    "    print(f\"Runtime for multiplying two 10,000 x 10,000 matrices: {runtime} seconds\")"
   ]
  },
  {
   "cell_type": "code",
   "execution_count": null,
   "metadata": {},
   "outputs": [],
   "source": []
  }
 ],
 "metadata": {
  "kernelspec": {
   "display_name": ".venv",
   "language": "python",
   "name": "python3"
  },
  "language_info": {
   "codemirror_mode": {
    "name": "ipython",
    "version": 3
   },
   "file_extension": ".py",
   "mimetype": "text/x-python",
   "name": "python",
   "nbconvert_exporter": "python",
   "pygments_lexer": "ipython3",
   "version": "3.9.6"
  }
 },
 "nbformat": 4,
 "nbformat_minor": 2
}
